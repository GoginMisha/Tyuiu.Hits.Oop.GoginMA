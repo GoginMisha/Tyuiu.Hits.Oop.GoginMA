{
 "cells": [
  {
   "cell_type": "markdown",
   "metadata": {},
   "source": [
    "<h1 style=\"color:DodgerBlue\">Индивидальный проект</h1>"
   ]
  },
  {
   "cell_type": "markdown",
   "metadata": {},
   "source": [
    "<h2 style=\"color:DodgerBlue\">Название проекта:</h2>\n",
    "\n",
    "----\n",
    "\n",
    "### Вариант задания №5\n"
   ]
  },
  {
   "cell_type": "markdown",
   "metadata": {},
   "source": [
    "<h2 style=\"color:DodgerBlue\">Описание проекта:</h2>\n",
    "\n",
    "----\n",
    "Создать базовый класс Book в C#, который будет представлять информацию о\n",
    "книгах. На основе этого класса разработать 2-3 производных класса,\n",
    "демонстрирующих принципы наследования и полиморфизма. В каждом из классов\n",
    "должны быть реализованы новые атрибуты и методы, а также переопределены\n",
    "некоторые методы базового класса для демонстрации полиморфизма.\n",
    "### Дополнительное задание\n",
    "Добавьте к сущестующим классам конструктора классов с использованием гетторов и сетторов и реализуйте взаимодействие объектов между собой"
   ]
  },
  {
   "cell_type": "markdown",
   "metadata": {},
   "source": [
    "<h2 style=\"color:DodgerBlue\">Реализация:</h2>\n",
    "\n",
    "----"
   ]
  },
  {
   "cell_type": "code",
   "execution_count": 4,
   "metadata": {
    "dotnet_interactive": {
     "language": "csharp"
    },
    "polyglot_notebook": {
     "kernelName": "csharp"
    }
   },
   "outputs": [
    {
     "name": "stdout",
     "output_type": "stream",
     "text": [
      "Название - Робинзон Крузо; Автор - Даниель Дефо; Год публикации - 1719\n",
      "Чтение книги 'Робинзон Крузо' от Даниель Дефо.\n",
      "Название - Алгебра 7 класс; Автор - Мерзляк; Год публикации - 2016, Предмет: Математика\n",
      "Чтение учебника 'Алгебра 7 класс' от Мерзляк по предмету Математика.\n",
      "Книга 'Алгебра 7 класс' от Мерзляк выдана на чтение.\n",
      "Название - Тайна Третьей планеты; Автор - Кир Булычёв; Год публикации - 1997, Жанр: Фантастика\n",
      "Чтение книги 'Тайна Третьей планеты' в жанре Фантастика от Кир Булычёв.\n",
      "Книга 'Тайна Третьей планеты' в жанре Фантастика от Кир Булычёв выдана на чтение.\n"
     ]
    }
   ],
   "source": [
    "// Интерфейс для книг, которые можно брать\n",
    "public interface IBorrowable\n",
    "{\n",
    "    string Borrow();\n",
    "}\n",
    "\n",
    "// Интерфейс для книг, которые можно читать\n",
    "public interface IReadable\n",
    "{\n",
    "    string Read();\n",
    "}\n",
    "// Базовый класс Book\n",
    "public class Book\n",
    "{\n",
    "    public string Title { get; set; }\n",
    "    public string Author { get; set; }\n",
    "    public int YearOfPublication { get; set; }\n",
    "\n",
    "    public Book(string title, string author, int yearOfPublication)\n",
    "    {\n",
    "        Title = title;\n",
    "        Author = author;\n",
    "        YearOfPublication = yearOfPublication;\n",
    "    }\n",
    "\n",
    "    public string Read()\n",
    "    {\n",
    "        return $\"Чтение книги '{Title}' от {Author}.\";\n",
    "    }\n",
    "    public virtual string GetInfo()\n",
    "    {\n",
    "        return $\"Название - {Title}; Автор - {Author}; Год публикации - {YearOfPublication}\";\n",
    "    }\n",
    "}\n",
    "\n",
    "// Производный класс Textbook\n",
    "public class Textbook : Book, IBorrowable, IReadable\n",
    "{\n",
    "    public string Subject { get; set; }\n",
    "    public string Genre { get; set; }\n",
    "    public Textbook(string title, string author, int yearOfPublication, string subject) : base(title, author, yearOfPublication)\n",
    "    {\n",
    "        Subject = subject;\n",
    "    }\n",
    "\n",
    "    public override string GetInfo()\n",
    "    {\n",
    "        return $\"{base.GetInfo()}, Предмет: {Subject}\";\n",
    "    }\n",
    "\n",
    "    public string Read()\n",
    "    {\n",
    "        return $\"Чтение учебника '{Title}' от {Author} по предмету {Subject}.\";\n",
    "    }\n",
    "    public string Borrow()\n",
    "    {\n",
    "        \n",
    "        return $\"Книга '{Title}' от {Author} выдана на чтение.\";\n",
    "    }\n",
    "}\n",
    "\n",
    "// Производный класс Fiction\n",
    "public class Fiction : Book, IBorrowable, IReadable\n",
    "{\n",
    "    public string Genre { get; set; }\n",
    "\n",
    "    public Fiction(string title, string author, int yearOfPublication, string genre) : base(title, author, yearOfPublication)\n",
    "    {\n",
    "        Genre = genre;\n",
    "    }\n",
    "\n",
    "    public override string GetInfo()\n",
    "    {\n",
    "        return $\"{base.GetInfo()}, Жанр: {Genre}\";\n",
    "    }\n",
    "\n",
    "    public string Read()\n",
    "    {\n",
    "        return $\"Чтение книги '{Title}' в жанре {Genre} от {Author}.\";\n",
    "    }\n",
    "\n",
    "    public string Borrow()\n",
    "    {\n",
    "        \n",
    "        return $\"Книга '{Title}' в жанре {Genre} от {Author} выдана на чтение.\";\n",
    "    }\n",
    "}\n",
    "\n",
    "// Создание объектов и вызов методов\n",
    "Book mainBook = new Book ( \"Робинзон Крузо\", \"Даниель Дефо\", 1719 );\n",
    "Console.WriteLine(mainBook.GetInfo());\n",
    "Console.WriteLine(mainBook.Read());\n",
    "\n",
    "Textbook mathTextbook = new Textbook(\"Алгебра 7 класс\", \"Мерзляк\", 2016, \"Математика\");\n",
    "Console.WriteLine(mathTextbook.GetInfo());\n",
    "Console.WriteLine(mathTextbook.Read());\n",
    "Console.WriteLine(mathTextbook.Borrow());\n",
    "\n",
    "Fiction fantasyFiction = new Fiction(\"Тайна Третьей планеты\", \"Кир Булычёв\", 1997, \"Фантастика\");\n",
    "Console.WriteLine(fantasyFiction.GetInfo());\n",
    "Console.WriteLine(fantasyFiction.Read());\n",
    "Console.WriteLine(fantasyFiction.Borrow());"
   ]
  }
 ],
 "metadata": {
  "kernelspec": {
   "display_name": ".NET (C#)",
   "language": "C#",
   "name": ".net-csharp"
  },
  "language_info": {
   "name": "polyglot-notebook"
  },
  "polyglot_notebook": {
   "kernelInfo": {
    "defaultKernelName": "csharp",
    "items": [
     {
      "aliases": [],
      "languageName": "csharp",
      "name": "csharp"
     }
    ]
   }
  }
 },
 "nbformat": 4,
 "nbformat_minor": 2
}
